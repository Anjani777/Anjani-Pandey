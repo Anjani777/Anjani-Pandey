{
 "cells": [
  {
   "cell_type": "code",
   "execution_count": 3,
   "id": "b5e6f1f0-86ce-46f1-bc6a-e9b89ebae9c2",
   "metadata": {},
   "outputs": [
    {
     "data": {
      "text/plain": [
       "float"
      ]
     },
     "execution_count": 3,
     "metadata": {},
     "output_type": "execute_result"
    }
   ],
   "source": [
    "x =  25\n",
    "y = float(x)\n",
    "type(y)"
   ]
  },
  {
   "cell_type": "code",
   "execution_count": 5,
   "id": "2f557b26-bdc4-4622-a119-db7ec3d182e1",
   "metadata": {},
   "outputs": [
    {
     "data": {
      "text/plain": [
       "int"
      ]
     },
     "execution_count": 5,
     "metadata": {},
     "output_type": "execute_result"
    }
   ],
   "source": [
    "a = 32.5\n",
    "b =  int(a)\n",
    "type(b)"
   ]
  },
  {
   "cell_type": "code",
   "execution_count": 7,
   "id": "9263d91c-5d12-4bd4-814a-0a61569b9374",
   "metadata": {},
   "outputs": [
    {
     "data": {
      "text/plain": [
       "str"
      ]
     },
     "execution_count": 7,
     "metadata": {},
     "output_type": "execute_result"
    }
   ],
   "source": [
    "c = 25\n",
    "d = str(c)\n",
    "type(d)"
   ]
  },
  {
   "cell_type": "code",
   "execution_count": 9,
   "id": "e9556993-cfdf-4a12-b18f-05f0f3f447f2",
   "metadata": {},
   "outputs": [
    {
     "data": {
      "text/plain": [
       "tuple"
      ]
     },
     "execution_count": 9,
     "metadata": {},
     "output_type": "execute_result"
    }
   ],
   "source": [
    "list_cont = [1, 2, \"AJAY\"]\n",
    "tuple_cont = tuple(list_cont)\n",
    "type(tuple_cont)\n",
    "    "
   ]
  },
  {
   "cell_type": "code",
   "execution_count": 12,
   "id": "a0385d1f-e9be-4f06-a6c4-d788585f1350",
   "metadata": {},
   "outputs": [
    {
     "data": {
      "text/plain": [
       "list"
      ]
     },
     "execution_count": 12,
     "metadata": {},
     "output_type": "execute_result"
    }
   ],
   "source": [
    "tuple_a = (1,2,3,4)\n",
    "list_a = list(tuple_a)\n",
    "type(list_a)"
   ]
  },
  {
   "cell_type": "code",
   "execution_count": 15,
   "id": "0ead3fb4-8571-489d-851d-67c0c363c7bc",
   "metadata": {},
   "outputs": [
    {
     "name": "stdout",
     "output_type": "stream",
     "text": [
      "0b10011010010\n"
     ]
    }
   ],
   "source": [
    "decimal = 1234\n",
    "binary = bin(decimal)\n",
    "print(binary)"
   ]
  },
  {
   "cell_type": "code",
   "execution_count": 17,
   "id": "3ccabc64-cbbd-4845-93a7-bbf38903531c",
   "metadata": {},
   "outputs": [
    {
     "name": "stdout",
     "output_type": "stream",
     "text": [
      "True\n"
     ]
    }
   ],
   "source": [
    "number = 42\n",
    "boolean = bool(number)\n",
    "print(boolean)"
   ]
  },
  {
   "cell_type": "code",
   "execution_count": null,
   "id": "a249a27f-4307-4a74-b557-406692ebdf58",
   "metadata": {},
   "outputs": [],
   "source": []
  }
 ],
 "metadata": {
  "kernelspec": {
   "display_name": "Python 3 (ipykernel)",
   "language": "python",
   "name": "python3"
  },
  "language_info": {
   "codemirror_mode": {
    "name": "ipython",
    "version": 3
   },
   "file_extension": ".py",
   "mimetype": "text/x-python",
   "name": "python",
   "nbconvert_exporter": "python",
   "pygments_lexer": "ipython3",
   "version": "3.10.8"
  }
 },
 "nbformat": 4,
 "nbformat_minor": 5
}
